{
 "cells": [
  {
   "cell_type": "code",
   "execution_count": 1,
   "id": "f5ca5533",
   "metadata": {},
   "outputs": [
    {
     "data": {
      "text/plain": [
       "['FC-slim', 'subjNum2IdxMap', 'subjIdx2NumMap', 'groupsNormalDiagMap']"
      ]
     },
     "execution_count": 1,
     "metadata": {},
     "output_type": "execute_result"
    }
   ],
   "source": [
    "'''\n",
    "Load fMRI data\n",
    "You must first run 'python getdata.py' in the LatentSimilarity directory to get the data\n",
    "The data is from: https://openneuro.org/datasets/ds004144/versions/1.0.1\n",
    "We have 66 subjects, 33 of who have fibromyalgia and 33 of who are controls\n",
    "fMRI is upper triangle of 264x264 functional connectivity based on Power atlas\n",
    "'''\n",
    "\n",
    "import pickle\n",
    "\n",
    "fmriData = None\n",
    "\n",
    "with open('../data/fmri-FC-slim.pkl', 'rb') as f:\n",
    "    fmriData = pickle.load(f)\n",
    "    \n",
    "list(fmriData.keys())"
   ]
  },
  {
   "cell_type": "code",
   "execution_count": 2,
   "id": "eebeb84a",
   "metadata": {},
   "outputs": [
    {
     "name": "stdout",
     "output_type": "stream",
     "text": [
      "(66, 34716)\n",
      "(66,)\n"
     ]
    }
   ],
   "source": [
    "# Package fMRI data into data matrix and response variables\n",
    "\n",
    "import numpy as np\n",
    "\n",
    "keys = list(fmriData['groupsNormalDiagMap'].keys())\n",
    "y = [fmriData['groupsNormalDiagMap'][key] for key in keys]\n",
    "y = np.array(y).astype('int')\n",
    "x = [fmriData['FC-slim'][fmriData['subjNum2IdxMap'][key]] for key in keys]\n",
    "x = np.stack(x)\n",
    "print(x.shape)\n",
    "print(y.shape)"
   ]
  },
  {
   "cell_type": "code",
   "execution_count": 3,
   "id": "1b449171",
   "metadata": {},
   "outputs": [
    {
     "name": "stdout",
     "output_type": "stream",
     "text": [
      "0.42857142857142855\n",
      "0.5\n",
      "0.5\n",
      "0.6428571428571429\n",
      "0.42857142857142855\n",
      "0.7142857142857143\n",
      "0.5\n",
      "0.42857142857142855\n",
      "0.5714285714285714\n",
      "0.35714285714285715\n",
      "0.5714285714285714\n",
      "0.7142857142857143\n",
      "0.7142857142857143\n",
      "0.7857142857142857\n",
      "0.5714285714285714\n",
      "0.7142857142857143\n",
      "0.5\n",
      "0.7142857142857143\n",
      "0.6428571428571429\n",
      "0.5\n",
      "0.6428571428571429\n",
      "0.5714285714285714\n",
      "0.7142857142857143\n",
      "0.42857142857142855\n",
      "0.6428571428571429\n",
      "0.7857142857142857\n",
      "0.6428571428571429\n",
      "0.5714285714285714\n",
      "0.35714285714285715\n",
      "0.5714285714285714\n",
      "---\n",
      "0.580952380952381\n",
      "0.12056179905878253\n"
     ]
    }
   ],
   "source": [
    "import sys\n",
    "\n",
    "if '..' not in sys.path:\n",
    "    sys.path.append('..')\n",
    "\n",
    "from latsim import LatSimClf\n",
    "from sklearn.linear_model import LogisticRegression\n",
    "from sklearn.model_selection import train_test_split\n",
    "\n",
    "accs = []\n",
    "\n",
    "for i in range(30):\n",
    "    xtr, xt, ytr, yt = train_test_split(x, y, stratify=y, train_size=0.8)\n",
    "    clf = LatSimClf().fit(xtr,ytr,ld=1)\n",
    "#     clf = LogisticRegression(C=10).fit(xtr,ytr)\n",
    "    yhat = clf.predict(xt)\n",
    "    acc = np.sum(yhat == yt)/len(yhat)\n",
    "    accs.append(acc)\n",
    "    print(acc)\n",
    "    \n",
    "print('---')\n",
    "print(np.mean(accs))\n",
    "print(np.std(accs))"
   ]
  },
  {
   "cell_type": "code",
   "execution_count": 5,
   "id": "b3cef3f3",
   "metadata": {},
   "outputs": [
    {
     "data": {
      "text/plain": [
       "{'mean_fit_time': array([0.07243547, 0.07250857, 0.07289786, 0.07535329]),\n",
       " 'std_fit_time': array([0.00698142, 0.00773355, 0.00201003, 0.00799013]),\n",
       " 'mean_score_time': array([0.00115542, 0.00122228, 0.00122108, 0.00100236]),\n",
       " 'std_score_time': array([1.61300937e-04, 6.49111122e-05, 6.42021171e-05, 1.48389195e-04]),\n",
       " 'param_ld': masked_array(data=[1, 1, 10, 10],\n",
       "              mask=[False, False, False, False],\n",
       "        fill_value='?',\n",
       "             dtype=object),\n",
       " 'param_stop': masked_array(data=[0, 0.1, 0, 0.1],\n",
       "              mask=[False, False, False, False],\n",
       "        fill_value='?',\n",
       "             dtype=object),\n",
       " 'params': [{'ld': 1, 'stop': 0},\n",
       "  {'ld': 1, 'stop': 0.1},\n",
       "  {'ld': 10, 'stop': 0},\n",
       "  {'ld': 10, 'stop': 0.1}],\n",
       " 'split0_test_score': array([0.45454545, 0.45454545, 0.36363636, 0.54545455]),\n",
       " 'split1_test_score': array([0.18181818, 0.54545455, 0.45454545, 0.81818182]),\n",
       " 'split2_test_score': array([0.5, 0.3, 0.3, 0.4]),\n",
       " 'split3_test_score': array([0.6, 0.5, 0.5, 0.3]),\n",
       " 'split4_test_score': array([0.5, 0.4, 0.4, 0.5]),\n",
       " 'mean_test_score': array([0.44727273, 0.44      , 0.40363636, 0.51272727]),\n",
       " 'std_test_score': array([0.14099997, 0.08500851, 0.06961524, 0.17464013]),\n",
       " 'rank_test_score': array([2, 3, 4, 1], dtype=int32)}"
      ]
     },
     "execution_count": 5,
     "metadata": {},
     "output_type": "execute_result"
    }
   ],
   "source": [
    "import sys\n",
    "\n",
    "if '..' not in sys.path:\n",
    "    sys.path.append('..')\n",
    "\n",
    "from latsim import LatSimClf\n",
    "from sklearn.model_selection import GridSearchCV\n",
    "from sklearn.model_selection import train_test_split\n",
    "\n",
    "# parameters = LatSimClf.get_default_distributions()\n",
    "parameters = {'ld': [1, 10], 'stop': [0, 0.1]}\n",
    "sim = LatSimClf()\n",
    "clf = GridSearchCV(sim, parameters, scoring='accuracy')\n",
    "\n",
    "xtr, xt, ytr, yt = train_test_split(x, y, stratify=y, train_size=0.8)\n",
    "clf.fit(xtr, ytr)\n",
    "\n",
    "clf.cv_results_"
   ]
  },
  {
   "cell_type": "code",
   "execution_count": null,
   "id": "1686a41a",
   "metadata": {},
   "outputs": [],
   "source": []
  }
 ],
 "metadata": {
  "kernelspec": {
   "display_name": "Python 3 (ipykernel)",
   "language": "python",
   "name": "python3"
  },
  "language_info": {
   "codemirror_mode": {
    "name": "ipython",
    "version": 3
   },
   "file_extension": ".py",
   "mimetype": "text/x-python",
   "name": "python",
   "nbconvert_exporter": "python",
   "pygments_lexer": "ipython3",
   "version": "3.10.9"
  }
 },
 "nbformat": 4,
 "nbformat_minor": 5
}
