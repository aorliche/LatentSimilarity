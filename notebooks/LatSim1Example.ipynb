{
 "cells": [
  {
   "cell_type": "code",
   "execution_count": 2,
   "id": "f5ca5533",
   "metadata": {},
   "outputs": [
    {
     "data": {
      "text/plain": [
       "['subs', 'fibromyalgia', 'fibromyalgia_score', 'rest', 'epr']"
      ]
     },
     "execution_count": 2,
     "metadata": {},
     "output_type": "execute_result"
    }
   ],
   "source": [
    "'''\n",
    "Load fMRI data\n",
    "The data is from: https://openneuro.org/datasets/ds004144/versions/1.0.1\n",
    "We have 66 subjects, 33 of who have fibromyalgia and 33 of who are controls\n",
    "fMRI is upper triangle of 264x264 functional connectivity based on Power atlas\n",
    "'''\n",
    "\n",
    "import pickle\n",
    "\n",
    "data = None\n",
    "\n",
    "with open('../data/fibromyalgia-data.pkl', 'rb') as f:\n",
    "    data = pickle.load(f)\n",
    "    \n",
    "list(data.keys())"
   ]
  },
  {
   "cell_type": "code",
   "execution_count": 9,
   "id": "eebeb84a",
   "metadata": {},
   "outputs": [
    {
     "name": "stdout",
     "output_type": "stream",
     "text": [
      "(131, 34716)\n",
      "(131,)\n"
     ]
    }
   ],
   "source": [
    "# Package fMRI data into data matrix and response variables\n",
    "\n",
    "import numpy as np\n",
    "\n",
    "x = []\n",
    "y = []\n",
    "\n",
    "for task in ['rest', 'epr']:\n",
    "    for k,v in data[task].items():\n",
    "        x.append(v)\n",
    "        y.append(int(data['fibromyalgia'][k]))\n",
    "    \n",
    "x = np.stack(x)\n",
    "y = np.array(y)\n",
    "    \n",
    "print(x.shape)\n",
    "print(y.shape)"
   ]
  },
  {
   "cell_type": "code",
   "execution_count": 23,
   "id": "1b449171",
   "metadata": {},
   "outputs": [
    {
     "name": "stdout",
     "output_type": "stream",
     "text": [
      "0.6666666666666666\n",
      "0.8148148148148148\n",
      "0.9259259259259259\n",
      "0.7037037037037037\n",
      "0.7777777777777778\n",
      "0.7037037037037037\n",
      "0.6666666666666666\n",
      "0.8888888888888888\n",
      "0.7037037037037037\n",
      "0.6666666666666666\n",
      "0.7777777777777778\n",
      "0.7407407407407407\n",
      "0.7777777777777778\n",
      "0.5925925925925926\n",
      "0.7777777777777778\n",
      "0.7407407407407407\n",
      "0.6666666666666666\n",
      "0.6666666666666666\n",
      "0.7407407407407407\n",
      "0.7407407407407407\n",
      "0.7407407407407407\n",
      "0.7407407407407407\n",
      "0.8148148148148148\n",
      "0.7407407407407407\n",
      "0.7037037037037037\n",
      "0.8148148148148148\n",
      "0.8148148148148148\n",
      "0.6666666666666666\n",
      "0.7407407407407407\n",
      "0.7777777777777778\n",
      "---\n",
      "0.7432098765432098\n",
      "0.06957532248694011\n"
     ]
    }
   ],
   "source": [
    "# We should see similar results for LatSim and LogisticRegression\n",
    "# Except LatSim is much faster\n",
    "\n",
    "import sys\n",
    "\n",
    "if '..' not in sys.path:\n",
    "    sys.path.append('..')\n",
    "\n",
    "from latsim import LatSimClf\n",
    "from sklearn.linear_model import LogisticRegression\n",
    "from sklearn.model_selection import train_test_split\n",
    "\n",
    "def rmse(yhat, y):\n",
    "    return np.mean((yhat-y)**2)**0.5\n",
    "\n",
    "accs = []\n",
    "\n",
    "for i in range(30):\n",
    "    xtr, xt, ytr, yt = train_test_split(x, y, train_size=0.8)\n",
    "    clf = LatSimClf().fit(xtr,ytr)\n",
    "#     clf = LogisticRegression(C=1).fit(xtr,ytr)\n",
    "    yhat = clf.predict(xt)\n",
    "    acc = np.mean(yhat == yt)\n",
    "    accs.append(acc)\n",
    "    print(acc)\n",
    "    \n",
    "print('---')\n",
    "print(np.mean(accs))\n",
    "print(np.std(accs))"
   ]
  },
  {
   "cell_type": "code",
   "execution_count": 13,
   "id": "b3cef3f3",
   "metadata": {},
   "outputs": [
    {
     "data": {
      "text/plain": [
       "{'mean_fit_time': array([0.09296627, 0.06823435, 0.08515639, 0.08539343]),\n",
       " 'std_fit_time': array([0.01422698, 0.00032864, 0.00120074, 0.00217892]),\n",
       " 'mean_score_time': array([0.00234475, 0.00198679, 0.00194292, 0.00179815]),\n",
       " 'std_score_time': array([3.28873471e-04, 4.73764534e-05, 5.63714299e-05, 1.12559833e-04]),\n",
       " 'param_ld': masked_array(data=[1, 1, 10, 10],\n",
       "              mask=[False, False, False, False],\n",
       "        fill_value='?',\n",
       "             dtype=object),\n",
       " 'param_stop': masked_array(data=[0, 0.1, 0, 0.1],\n",
       "              mask=[False, False, False, False],\n",
       "        fill_value='?',\n",
       "             dtype=object),\n",
       " 'params': [{'ld': 1, 'stop': 0},\n",
       "  {'ld': 1, 'stop': 0.1},\n",
       "  {'ld': 10, 'stop': 0},\n",
       "  {'ld': 10, 'stop': 0.1}],\n",
       " 'split0_test_score': array([0.85714286, 0.76190476, 0.85714286, 0.85714286]),\n",
       " 'split1_test_score': array([0.66666667, 0.66666667, 0.71428571, 0.66666667]),\n",
       " 'split2_test_score': array([0.61904762, 0.66666667, 0.61904762, 0.66666667]),\n",
       " 'split3_test_score': array([0.57142857, 0.57142857, 0.61904762, 0.61904762]),\n",
       " 'split4_test_score': array([0.9 , 0.9 , 0.85, 0.95]),\n",
       " 'mean_test_score': array([0.72285714, 0.71333333, 0.73190476, 0.75190476]),\n",
       " 'std_test_score': array([0.13135954, 0.11108208, 0.1052758 , 0.12845144]),\n",
       " 'rank_test_score': array([3, 4, 2, 1], dtype=int32)}"
      ]
     },
     "execution_count": 13,
     "metadata": {},
     "output_type": "execute_result"
    }
   ],
   "source": [
    "import sys\n",
    "\n",
    "if '..' not in sys.path:\n",
    "    sys.path.append('..')\n",
    "\n",
    "from latsim import LatSimClf\n",
    "from sklearn.model_selection import GridSearchCV\n",
    "from sklearn.model_selection import train_test_split\n",
    "\n",
    "# parameters = LatSimClf.get_default_distributions()\n",
    "parameters = {'ld': [1, 10], 'stop': [0, 0.1]}\n",
    "sim = LatSimClf()\n",
    "clf = GridSearchCV(sim, parameters, scoring='accuracy')\n",
    "\n",
    "xtr, xt, ytr, yt = train_test_split(x, y, stratify=y, train_size=0.8)\n",
    "clf.fit(xtr, ytr)\n",
    "\n",
    "clf.cv_results_"
   ]
  },
  {
   "cell_type": "code",
   "execution_count": null,
   "id": "1686a41a",
   "metadata": {},
   "outputs": [],
   "source": []
  }
 ],
 "metadata": {
  "kernelspec": {
   "display_name": "Python 3 (ipykernel)",
   "language": "python",
   "name": "python3"
  },
  "language_info": {
   "codemirror_mode": {
    "name": "ipython",
    "version": 3
   },
   "file_extension": ".py",
   "mimetype": "text/x-python",
   "name": "python",
   "nbconvert_exporter": "python",
   "pygments_lexer": "ipython3",
   "version": "3.11.3"
  }
 },
 "nbformat": 4,
 "nbformat_minor": 5
}
