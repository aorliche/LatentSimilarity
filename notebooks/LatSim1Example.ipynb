{
 "cells": [
  {
   "cell_type": "code",
   "execution_count": 1,
   "id": "f5ca5533",
   "metadata": {},
   "outputs": [
    {
     "data": {
      "text/plain": [
       "['FC-slim', 'subjNum2IdxMap', 'subjIdx2NumMap', 'groupsNormalDiagMap']"
      ]
     },
     "execution_count": 1,
     "metadata": {},
     "output_type": "execute_result"
    }
   ],
   "source": [
    "'''\n",
    "Load fMRI data\n",
    "You must first run 'python getdata.py' in the LatentSimilarity directory to get the data\n",
    "The data is from: https://openneuro.org/datasets/ds004144/versions/1.0.1\n",
    "We have 66 subjects, 33 of who have fibromyalgia and 33 of who are controls\n",
    "fMRI is upper triangle of 264x264 functional connectivity based on Power atlas\n",
    "'''\n",
    "\n",
    "import pickle\n",
    "\n",
    "fmriData = None\n",
    "\n",
    "with open('../data/fmri-FC-slim.pkl', 'rb') as f:\n",
    "    fmriData = pickle.load(f)\n",
    "    \n",
    "list(fmriData.keys())"
   ]
  },
  {
   "cell_type": "code",
   "execution_count": 2,
   "id": "eebeb84a",
   "metadata": {},
   "outputs": [
    {
     "name": "stdout",
     "output_type": "stream",
     "text": [
      "(66, 34716)\n",
      "(66,)\n"
     ]
    }
   ],
   "source": [
    "# Package fMRI data into data matrix and response variables\n",
    "\n",
    "import numpy as np\n",
    "\n",
    "keys = list(fmriData['groupsNormalDiagMap'].keys())\n",
    "y = [fmriData['groupsNormalDiagMap'][key] for key in keys]\n",
    "y = np.array(y).astype('int')\n",
    "x = [fmriData['FC-slim'][fmriData['subjNum2IdxMap'][key]] for key in keys]\n",
    "x = np.stack(x)\n",
    "print(x.shape)\n",
    "print(y.shape)"
   ]
  },
  {
   "cell_type": "code",
   "execution_count": 3,
   "id": "1b449171",
   "metadata": {},
   "outputs": [
    {
     "name": "stdout",
     "output_type": "stream",
     "text": [
      "0.42857142857142855\n",
      "0.5\n",
      "0.5\n",
      "0.6428571428571429\n",
      "0.42857142857142855\n",
      "0.7142857142857143\n",
      "0.5\n",
      "0.42857142857142855\n",
      "0.5714285714285714\n",
      "0.35714285714285715\n",
      "0.5714285714285714\n",
      "0.7142857142857143\n",
      "0.7142857142857143\n",
      "0.7857142857142857\n",
      "0.5714285714285714\n",
      "0.7142857142857143\n",
      "0.5\n",
      "0.7142857142857143\n",
      "0.6428571428571429\n",
      "0.5\n",
      "0.6428571428571429\n",
      "0.5714285714285714\n",
      "0.7142857142857143\n",
      "0.42857142857142855\n",
      "0.6428571428571429\n",
      "0.7857142857142857\n",
      "0.6428571428571429\n",
      "0.5714285714285714\n",
      "0.35714285714285715\n",
      "0.5714285714285714\n",
      "---\n",
      "0.580952380952381\n",
      "0.12056179905878253\n"
     ]
    }
   ],
   "source": [
    "import sys\n",
    "\n",
    "if '..' not in sys.path:\n",
    "    sys.path.append('..')\n",
    "\n",
    "from latsim import LatSimClf\n",
    "from sklearn.linear_model import LogisticRegression\n",
    "from sklearn.model_selection import train_test_split\n",
    "\n",
    "accs = []\n",
    "\n",
    "for i in range(30):\n",
    "    xtr, xt, ytr, yt = train_test_split(x, y, stratify=y, train_size=0.8)\n",
    "    clf = LatSimClf().fit(xtr,ytr,ld=1)\n",
    "#     clf = LogisticRegression(C=10).fit(xtr,ytr)\n",
    "    yhat = clf.predict(xt)\n",
    "    acc = np.sum(yhat == yt)/len(yhat)\n",
    "    accs.append(acc)\n",
    "    print(acc)\n",
    "    \n",
    "print('---')\n",
    "print(np.mean(accs))\n",
    "print(np.std(accs))"
   ]
  },
  {
   "cell_type": "code",
   "execution_count": 7,
   "id": "ce308e36",
   "metadata": {},
   "outputs": [
    {
     "data": {
      "text/plain": [
       "{'mean_fit_time': array([0.1927206 , 0.07455053, 0.0749681 , 0.07243319]),\n",
       " 'std_fit_time': array([0.02293737, 0.0130821 , 0.00277826, 0.00271856]),\n",
       " 'mean_score_time': array([0.00213256, 0.00136862, 0.00130243, 0.00110683]),\n",
       " 'std_score_time': array([7.38107264e-05, 1.32361492e-04, 1.03211114e-04, 1.14268789e-04]),\n",
       " 'param_ld': masked_array(data=[1, 1, 10, 10],\n",
       "              mask=[False, False, False, False],\n",
       "        fill_value='?',\n",
       "             dtype=object),\n",
       " 'param_stop': masked_array(data=[0, 0.1, 0, 0.1],\n",
       "              mask=[False, False, False, False],\n",
       "        fill_value='?',\n",
       "             dtype=object),\n",
       " 'params': [{'ld': 1, 'stop': 0},\n",
       "  {'ld': 1, 'stop': 0.1},\n",
       "  {'ld': 10, 'stop': 0},\n",
       "  {'ld': 10, 'stop': 0.1}],\n",
       " 'split0_test_score': array([0.45454545, 0.45454545, 0.45454545, 0.54545455]),\n",
       " 'split1_test_score': array([0.36363636, 0.54545455, 0.36363636, 0.27272727]),\n",
       " 'split2_test_score': array([0.7, 0.7, 0.6, 0.5]),\n",
       " 'split3_test_score': array([0.7, 0.5, 0.7, 0.6]),\n",
       " 'split4_test_score': array([0.8, 0.8, 0.7, 0.7]),\n",
       " 'mean_test_score': array([0.60363636, 0.6       , 0.56363636, 0.52363636]),\n",
       " 'std_test_score': array([0.16550449, 0.12971679, 0.13447172, 0.14207436]),\n",
       " 'rank_test_score': array([1, 2, 3, 4], dtype=int32)}"
      ]
     },
     "execution_count": 7,
     "metadata": {},
     "output_type": "execute_result"
    }
   ],
   "source": [
    "import sys\n",
    "\n",
    "if '..' not in sys.path:\n",
    "    sys.path.append('..')\n",
    "\n",
    "from latsim import LatSimClf\n",
    "from sklearn.model_selection import GridSearchCV\n",
    "\n",
    "# parameters = LatSimClf.get_default_distributions()\n",
    "parameters = {'ld': [1, 10], 'stop': [0, 0.1]}\n",
    "sim = LatSimClf()\n",
    "clf = GridSearchCV(sim, parameters, scoring='accuracy')\n",
    "\n",
    "xtr, xt, ytr, yt = train_test_split(x, y, stratify=y, train_size=0.8)\n",
    "clf.fit(xtr, ytr)\n",
    "\n",
    "clf.cv_results_"
   ]
  },
  {
   "cell_type": "code",
   "execution_count": null,
   "id": "1686a41a",
   "metadata": {},
   "outputs": [],
   "source": []
  }
 ],
 "metadata": {
  "kernelspec": {
   "display_name": "Python 3 (ipykernel)",
   "language": "python",
   "name": "python3"
  },
  "language_info": {
   "codemirror_mode": {
    "name": "ipython",
    "version": 3
   },
   "file_extension": ".py",
   "mimetype": "text/x-python",
   "name": "python",
   "nbconvert_exporter": "python",
   "pygments_lexer": "ipython3",
   "version": "3.10.9"
  }
 },
 "nbformat": 4,
 "nbformat_minor": 5
}
