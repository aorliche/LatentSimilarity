{
 "cells": [
  {
   "cell_type": "code",
   "execution_count": 1,
   "id": "f5ca5533",
   "metadata": {},
   "outputs": [
    {
     "data": {
      "text/plain": [
       "['FC-slim', 'subjNum2IdxMap', 'subjIdx2NumMap', 'groupsNormalDiagMap']"
      ]
     },
     "execution_count": 1,
     "metadata": {},
     "output_type": "execute_result"
    }
   ],
   "source": [
    "'''\n",
    "Load fMRI data\n",
    "You must first run 'python getdata.py' in the LatentSimilarity directory to get the data\n",
    "The data is from: https://openneuro.org/datasets/ds004144/versions/1.0.1\n",
    "We have 66 subjects, 33 of who have fibromyalgia and 33 of who are controls\n",
    "fMRI is upper triangle of 264x264 functional connectivity based on Power atlas\n",
    "'''\n",
    "\n",
    "import pickle\n",
    "\n",
    "fmriData = None\n",
    "\n",
    "with open('../data/fmri-FC-slim.pkl', 'rb') as f:\n",
    "    fmriData = pickle.load(f)\n",
    "    \n",
    "list(fmriData.keys())"
   ]
  },
  {
   "cell_type": "code",
   "execution_count": 2,
   "id": "eebeb84a",
   "metadata": {},
   "outputs": [
    {
     "name": "stdout",
     "output_type": "stream",
     "text": [
      "(66, 34716)\n",
      "(66,)\n"
     ]
    }
   ],
   "source": [
    "# Package fMRI data into data matrix and response variables\n",
    "\n",
    "import numpy as np\n",
    "from sklearn.model_selection import train_test_split\n",
    "\n",
    "keys = list(fmriData['groupsNormalDiagMap'].keys())\n",
    "y = [fmriData['groupsNormalDiagMap'][key] for key in keys]\n",
    "y = np.array(y).astype('int')\n",
    "x = [fmriData['FC-slim'][fmriData['subjNum2IdxMap'][key]] for key in keys]\n",
    "x = np.stack(x)\n",
    "print(x.shape)\n",
    "print(y.shape)"
   ]
  },
  {
   "cell_type": "code",
   "execution_count": 20,
   "id": "1b449171",
   "metadata": {},
   "outputs": [
    {
     "name": "stdout",
     "output_type": "stream",
     "text": [
      "0.5714285714285714\n",
      "0.6428571428571429\n",
      "0.42857142857142855\n",
      "0.42857142857142855\n",
      "0.5714285714285714\n",
      "0.5714285714285714\n",
      "0.5\n",
      "0.5\n",
      "0.42857142857142855\n",
      "0.6428571428571429\n",
      "0.5714285714285714\n",
      "0.5\n",
      "0.6428571428571429\n",
      "0.5714285714285714\n",
      "0.6428571428571429\n",
      "0.5714285714285714\n",
      "0.5\n",
      "0.5\n",
      "0.7142857142857143\n",
      "0.5714285714285714\n",
      "0.5714285714285714\n",
      "0.42857142857142855\n",
      "0.42857142857142855\n",
      "0.5714285714285714\n",
      "0.5\n",
      "0.35714285714285715\n",
      "0.35714285714285715\n",
      "0.42857142857142855\n",
      "0.5714285714285714\n",
      "0.5714285714285714\n",
      "---\n",
      "0.5285714285714286\n",
      "0.08767596495010462\n"
     ]
    }
   ],
   "source": [
    "import sys\n",
    "\n",
    "if '..' not in sys.path:\n",
    "    sys.path.append('..')\n",
    "\n",
    "from latsim import LatSimClf\n",
    "from sklearn.linear_model import LogisticRegression\n",
    "\n",
    "accs = []\n",
    "\n",
    "for i in range(30):\n",
    "    xtr, xt, ytr, yt = train_test_split(x, y, stratify=y, train_size=0.8)\n",
    "    clf = LatSimClf().fit(xtr,ytr,ld=1)\n",
    "#     clf = LogisticRegression(C=10).fit(xtr,ytr)\n",
    "    yhat = clf.predict(xt)\n",
    "    acc = np.sum(yhat == yt)/len(yhat)\n",
    "    accs.append(acc)\n",
    "    print(acc)\n",
    "    \n",
    "print('---')\n",
    "print(np.mean(accs))\n",
    "print(np.std(accs))"
   ]
  },
  {
   "cell_type": "code",
   "execution_count": null,
   "id": "1686a41a",
   "metadata": {},
   "outputs": [],
   "source": []
  }
 ],
 "metadata": {
  "kernelspec": {
   "display_name": "Python 3 (ipykernel)",
   "language": "python",
   "name": "python3"
  },
  "language_info": {
   "codemirror_mode": {
    "name": "ipython",
    "version": 3
   },
   "file_extension": ".py",
   "mimetype": "text/x-python",
   "name": "python",
   "nbconvert_exporter": "python",
   "pygments_lexer": "ipython3",
   "version": "3.10.9"
  }
 },
 "nbformat": 4,
 "nbformat_minor": 5
}
